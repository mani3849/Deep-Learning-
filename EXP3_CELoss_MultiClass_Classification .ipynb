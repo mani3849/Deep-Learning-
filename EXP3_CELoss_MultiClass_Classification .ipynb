{
  "nbformat": 4,
  "nbformat_minor": 0,
  "metadata": {
    "colab": {
      "provenance": []
    },
    "kernelspec": {
      "name": "python3",
      "display_name": "Python 3"
    },
    "language_info": {
      "name": "python"
    }
  },
  "cells": [
    {
      "cell_type": "code",
      "execution_count": 10,
      "metadata": {
        "id": "P-NWYUn3B2l7"
      },
      "outputs": [],
      "source": [
        "import numpy as np\n",
        "\n",
        "# Ground truth labels (one-hot encoded)\n",
        "y_true = np.array([\n",
        "    [1, 0, 0],  # Sample 1: Class 1\n",
        "    [0, 1, 0],  # Sample 2: Class 2\n",
        "    [0, 0, 1],   # Sample 3: Class 3\n",
        "    [0, 1, 0],  # Sample 4: Class 4\n",
        "    [0, 0, 1],   # Sample 5: Class 5\n",
        "    ])"
      ]
    },
    {
      "cell_type": "code",
      "source": [
        "# Model predictions (logits)\n",
        "logits = np.array([\n",
        "    [2.0, 1.0, 0.1],  # Sample 1\n",
        "    [0.5, 2.5, 0.2],  # Sample 2\n",
        "    [0.1, 0.2, 3.0],  # Sample 3\n",
        "    [3.0, 2.0, 0.6],  # Sample 4\n",
        "    [4.5, 3.5, 0.3],  # Sample 5\n",
        "\n",
        "])"
      ],
      "metadata": {
        "id": "s7rp17_XIRnw"
      },
      "execution_count": 11,
      "outputs": []
    },
    {
      "cell_type": "code",
      "source": [
        "# Softmax function\n",
        "def softmax(x):\n",
        "    exp_x = np.exp(x - np.max(x, axis=-1, keepdims=True))  # Numerical stability\n",
        "    return exp_x / np.sum(exp_x, axis=-1, keepdims=True)"
      ],
      "metadata": {
        "id": "og5XFx_cIPiI"
      },
      "execution_count": 12,
      "outputs": []
    },
    {
      "cell_type": "code",
      "source": [
        "# Compute softmax probabilities\n",
        "probs = softmax(logits)\n",
        "print(\"Softmax Probabilities:\\n\", probs)"
      ],
      "metadata": {
        "colab": {
          "base_uri": "https://localhost:8080/"
        },
        "id": "xy5apM2RINjh",
        "outputId": "609aaf41-981f-4959-afc1-faf83ec0555f"
      },
      "execution_count": 13,
      "outputs": [
        {
          "output_type": "stream",
          "name": "stdout",
          "text": [
            "Softmax Probabilities:\n",
            " [[0.65900114 0.24243297 0.09856589]\n",
            " [0.10953053 0.80932725 0.08114221]\n",
            " [0.04931133 0.05449744 0.89619123]\n",
            " [0.68559015 0.25221452 0.06219533]\n",
            " [0.72313115 0.26602508 0.01084377]]\n"
          ]
        }
      ]
    },
    {
      "cell_type": "code",
      "source": [
        "# Compute log(probs)\n",
        "log_probs = np.log(probs)\n",
        "print(\"\\nLog of Softmax Probabilities:\\n\", log_probs)"
      ],
      "metadata": {
        "colab": {
          "base_uri": "https://localhost:8080/"
        },
        "id": "YRRayHqDILse",
        "outputId": "10a698e4-0ddd-4bf2-a065-6461f32ebb26"
      },
      "execution_count": 14,
      "outputs": [
        {
          "output_type": "stream",
          "name": "stdout",
          "text": [
            "\n",
            "Log of Softmax Probabilities:\n",
            " [[-0.41703002 -1.41703002 -2.31703002]\n",
            " [-2.21155193 -0.21155193 -2.51155193]\n",
            " [-3.00960146 -2.90960146 -0.10960146]\n",
            " [-0.37747529 -1.37747529 -2.77747529]\n",
            " [-0.32416468 -1.32416468 -4.52416468]]\n"
          ]
        }
      ]
    },
    {
      "cell_type": "code",
      "source": [
        "# Compute y_true * log(probs)\n",
        "y_true_log_probs = y_true * log_probs\n",
        "print(\"\\ny_true * log(probs):\\n\", y_true_log_probs)"
      ],
      "metadata": {
        "colab": {
          "base_uri": "https://localhost:8080/"
        },
        "id": "n3duSWElH_iY",
        "outputId": "411d66b2-3c6a-4287-9ce5-d347aeda189a"
      },
      "execution_count": 15,
      "outputs": [
        {
          "output_type": "stream",
          "name": "stdout",
          "text": [
            "\n",
            "y_true * log(probs):\n",
            " [[-0.41703002 -0.         -0.        ]\n",
            " [-0.         -0.21155193 -0.        ]\n",
            " [-0.         -0.         -0.10960146]\n",
            " [-0.         -1.37747529 -0.        ]\n",
            " [-0.         -0.         -4.52416468]]\n"
          ]
        }
      ]
    },
    {
      "cell_type": "code",
      "source": [
        "# Compute CE loss for each sample\n",
        "ce_loss = -np.sum(y_true_log_probs, axis=-1)\n",
        "print(\"\\nCE Loss per Sample:\", ce_loss)"
      ],
      "metadata": {
        "colab": {
          "base_uri": "https://localhost:8080/"
        },
        "id": "D5jji25iH93A",
        "outputId": "8be46236-227c-46d3-ed56-aa37ed49bb37"
      },
      "execution_count": 16,
      "outputs": [
        {
          "output_type": "stream",
          "name": "stdout",
          "text": [
            "\n",
            "CE Loss per Sample: [0.41703002 0.21155193 0.10960146 1.37747529 4.52416468]\n"
          ]
        }
      ]
    },
    {
      "cell_type": "code",
      "source": [
        "# Average CE loss for the dataset\n",
        "avg_ce_loss = np.mean(ce_loss)\n",
        "print(\"\\nAverage CE Loss for the Dataset:\", avg_ce_loss)"
      ],
      "metadata": {
        "colab": {
          "base_uri": "https://localhost:8080/"
        },
        "id": "D9KA-23YH8Zp",
        "outputId": "6c646750-48ed-4ead-d1fc-22e358b8976a"
      },
      "execution_count": 17,
      "outputs": [
        {
          "output_type": "stream",
          "name": "stdout",
          "text": [
            "\n",
            "Average CE Loss for the Dataset: 1.3279646746564342\n"
          ]
        }
      ]
    }
  ]
}